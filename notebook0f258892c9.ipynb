{
 "cells": [
  {
   "cell_type": "code",
   "execution_count": 1,
   "id": "f540a109",
   "metadata": {
    "_cell_guid": "b1076dfc-b9ad-4769-8c92-a6c4dae69d19",
    "_uuid": "8f2839f25d086af736a60e9eeb907d3b93b6e0e5",
    "execution": {
     "iopub.execute_input": "2025-02-23T09:29:34.821364Z",
     "iopub.status.busy": "2025-02-23T09:29:34.821015Z",
     "iopub.status.idle": "2025-02-23T09:29:35.878464Z",
     "shell.execute_reply": "2025-02-23T09:29:35.877675Z"
    },
    "papermill": {
     "duration": 1.061808,
     "end_time": "2025-02-23T09:29:35.880105",
     "exception": false,
     "start_time": "2025-02-23T09:29:34.818297",
     "status": "completed"
    },
    "tags": []
   },
   "outputs": [],
   "source": [
    "# This Python 3 environment comes with many helpful analytics libraries installed\n",
    "# It is defined by the kaggle/python Docker image: https://github.com/kaggle/docker-python\n",
    "# For example, here's several helpful packages to load\n",
    "\n",
    "import numpy as np # linear algebra\n",
    "import pandas as pd # data processing, CSV file I/O (e.g. pd.read_csv)\n",
    "\n",
    "# Input data files are available in the read-only \"../input/\" directory\n",
    "# For example, running this (by clicking run or pressing Shift+Enter) will list all files under the input directory\n",
    "\n",
    "import os\n",
    "for dirname, _, filenames in os.walk('/kaggle/input'):\n",
    "    for filename in filenames:\n",
    "        print(os.path.join(dirname, filename))\n",
    "\n",
    "# You can write up to 20GB to the current directory (/kaggle/working/) that gets preserved as output when you create a version using \"Save & Run All\" \n",
    "# You can also write temporary files to /kaggle/temp/, but they won't be saved outside of the current session"
   ]
  },
  {
   "cell_type": "code",
   "execution_count": 2,
   "id": "1c2b80e0",
   "metadata": {
    "execution": {
     "iopub.execute_input": "2025-02-23T09:29:35.883955Z",
     "iopub.status.busy": "2025-02-23T09:29:35.883590Z",
     "iopub.status.idle": "2025-02-23T09:29:35.888404Z",
     "shell.execute_reply": "2025-02-23T09:29:35.887688Z"
    },
    "papermill": {
     "duration": 0.008021,
     "end_time": "2025-02-23T09:29:35.889695",
     "exception": false,
     "start_time": "2025-02-23T09:29:35.881674",
     "status": "completed"
    },
    "tags": []
   },
   "outputs": [
    {
     "name": "stdout",
     "output_type": "stream",
     "text": [
      "Writing utils.py\n"
     ]
    }
   ],
   "source": [
    "%%writefile utils.py\n",
    "def sn_ratio(model, X_test, y_test, name):\n",
    "    \"\"\"Compute quality losses for a given model.\"\"\"\n",
    "    y_pred = model.predict(X_test)\n",
    "\n",
    "    # Compute performance metrics\n",
    "    r2 = r2_score(y_test, y_pred)\n",
    "    mse = mean_squared_error(y_test, y_pred)\n",
    "    mae = mean_absolute_error(y_test, y_pred)\n",
    "    print(f\"{name}\")\n",
    "    print(f\"Rsquare score: {r2}\")\n",
    "    print(f\"MSE: {mse}\")\n",
    "    print(f\"MAE: {mae}\")\n",
    "    # Compute quality losses\n",
    "    L_r2 = 1 / ((r2 + 1e-9)**2) if r2 > 0 else 1\n",
    "    L_mse = (1/2) * (mse ** 2)\n",
    "    L_mae = (1/2) * (mae ** 2)\n",
    "\n",
    "    \n",
    "    return ({\n",
    "        \"Model\": name,\n",
    "        \"R2 Loss\": L_r2,\n",
    "        \"MSE Loss\": L_mse,\n",
    "        \"MAE Loss\": L_mae\n",
    "    })\n",
    "def process_mrsn(losses_df):\n",
    "    for metric in [\"R2 Loss\", \"MSE Loss\", \"MAE Loss\"]:\n",
    "    min_val, max_val = losses_df[metric].min(), losses_df[metric].max()\n",
    "    if max_val != min_val:\n",
    "        losses_df[f\"Normalized {metric}\"] = (losses_df[metric] - min_val) / (max_val - min_val)\n",
    "    else:\n",
    "        losses_df[f\"Normalized {metric}\"] = 0  # Avoid division by zero\n",
    "\n",
    "    # Compute MRSN Scores\n",
    "    epsilon = 1e-9\n",
    "    for index, row in losses_df.iterrows():\n",
    "        # Convert to numpy array explicitly and ensure float type\n",
    "        normalized_values = np.array(row[[\"Normalized R2 Loss\", \"Normalized MSE Loss\", \"Normalized MAE Loss\"]].values, dtype=float)\n",
    "        # Replace zeros with epsilon\n",
    "        normalized_values = np.maximum(normalized_values, epsilon)\n",
    "        # Calculate SN ratios\n",
    "        sn_ratios = -10 * np.log10(normalized_values)\n",
    "        # Sum the ratios\n",
    "        losses_df.loc[index, \"MRSN Score\"] = float(np.sum(sn_ratios))\n",
    "    return losses_df"
   ]
  }
 ],
 "metadata": {
  "kaggle": {
   "accelerator": "none",
   "dataSources": [],
   "dockerImageVersionId": 30918,
   "isGpuEnabled": false,
   "isInternetEnabled": true,
   "language": "python",
   "sourceType": "notebook"
  },
  "kernelspec": {
   "display_name": "Python 3",
   "language": "python",
   "name": "python3"
  },
  "language_info": {
   "codemirror_mode": {
    "name": "ipython",
    "version": 3
   },
   "file_extension": ".py",
   "mimetype": "text/x-python",
   "name": "python",
   "nbconvert_exporter": "python",
   "pygments_lexer": "ipython3",
   "version": "3.10.12"
  },
  "papermill": {
   "default_parameters": {},
   "duration": 4.009713,
   "end_time": "2025-02-23T09:29:36.409251",
   "environment_variables": {},
   "exception": null,
   "input_path": "__notebook__.ipynb",
   "output_path": "__notebook__.ipynb",
   "parameters": {},
   "start_time": "2025-02-23T09:29:32.399538",
   "version": "2.6.0"
  }
 },
 "nbformat": 4,
 "nbformat_minor": 5
}
