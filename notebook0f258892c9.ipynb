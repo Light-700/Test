{
 "cells": [
  {
   "cell_type": "code",
   "execution_count": 1,
   "id": "e0cc14f8",
   "metadata": {
    "_cell_guid": "b1076dfc-b9ad-4769-8c92-a6c4dae69d19",
    "_uuid": "8f2839f25d086af736a60e9eeb907d3b93b6e0e5",
    "execution": {
     "iopub.execute_input": "2025-02-23T11:31:48.043127Z",
     "iopub.status.busy": "2025-02-23T11:31:48.042735Z",
     "iopub.status.idle": "2025-02-23T11:31:49.064887Z",
     "shell.execute_reply": "2025-02-23T11:31:49.063697Z"
    },
    "papermill": {
     "duration": 1.02862,
     "end_time": "2025-02-23T11:31:49.067005",
     "exception": false,
     "start_time": "2025-02-23T11:31:48.038385",
     "status": "completed"
    },
    "tags": []
   },
   "outputs": [],
   "source": [
    "# This Python 3 environment comes with many helpful analytics libraries installed\n",
    "# It is defined by the kaggle/python Docker image: https://github.com/kaggle/docker-python\n",
    "# For example, here's several helpful packages to load\n",
    "\n",
    "import numpy as np # linear algebra\n",
    "import pandas as pd # data processing, CSV file I/O (e.g. pd.read_csv)\n",
    "\n",
    "# Input data files are available in the read-only \"../input/\" directory\n",
    "# For example, running this (by clicking run or pressing Shift+Enter) will list all files under the input directory\n",
    "\n",
    "import os\n",
    "for dirname, _, filenames in os.walk('/kaggle/input'):\n",
    "    for filename in filenames:\n",
    "        print(os.path.join(dirname, filename))\n",
    "\n",
    "# You can write up to 20GB to the current directory (/kaggle/working/) that gets preserved as output when you create a version using \"Save & Run All\" \n",
    "# You can also write temporary files to /kaggle/temp/, but they won't be saved outside of the current session"
   ]
  },
  {
   "cell_type": "code",
   "execution_count": 2,
   "id": "6aa8cd3a",
   "metadata": {
    "execution": {
     "iopub.execute_input": "2025-02-23T11:31:49.074182Z",
     "iopub.status.busy": "2025-02-23T11:31:49.073632Z",
     "iopub.status.idle": "2025-02-23T11:31:49.083629Z",
     "shell.execute_reply": "2025-02-23T11:31:49.082644Z"
    },
    "papermill": {
     "duration": 0.015182,
     "end_time": "2025-02-23T11:31:49.085364",
     "exception": false,
     "start_time": "2025-02-23T11:31:49.070182",
     "status": "completed"
    },
    "tags": []
   },
   "outputs": [],
   "source": [
    "def sn_ratio(model, X_test, y_test, name):\n",
    "    \"\"\"Compute quality losses for a given model.\"\"\"\n",
    "    y_pred = model.predict(X_test)\n",
    "\n",
    "    # Compute performance metrics\n",
    "    r2 = r2_score(y_test, y_pred)\n",
    "    mse = mean_squared_error(y_test, y_pred)\n",
    "    mae = mean_absolute_error(y_test, y_pred)\n",
    "\n",
    "    print(f\"{name}\")\n",
    "    print(f\"Rsquare score: {r2}\")\n",
    "    print(f\"MSE: {mse}\")\n",
    "    print(f\"MAE: {mae}\")\n",
    "\n",
    "    # Compute quality losses\n",
    "    L_r2 = 1 / ((r2 + 1e-9)**2) if r2 > 0 else 1\n",
    "    L_mse = (1/2) * (mse ** 2)\n",
    "    L_mae = (1/2) * (mae ** 2)\n",
    "\n",
    "    return {\n",
    "        \"Model\": name,\n",
    "        \"R2 Loss\": L_r2,\n",
    "        \"MSE Loss\": L_mse,\n",
    "        \"MAE Loss\": L_mae\n",
    "    }\n",
    "\n",
    "def process_mrsn(losses_df):\n",
    "    \"\"\"Process Mean Robust SN Ratio (MRSN) from loss values.\"\"\"\n",
    "    \n",
    "    # Normalize each loss metric\n",
    "    for metric in [\"R2 Loss\", \"MSE Loss\", \"MAE Loss\"]:\n",
    "        if metric in losses_df.columns:  # Ensure column exists\n",
    "            min_val, max_val = losses_df[metric].min(), losses_df[metric].max()\n",
    "            if max_val != min_val:\n",
    "                losses_df[f\"Normalized {metric}\"] = (losses_df[metric] - min_val) / (max_val - min_val)\n",
    "            else:\n",
    "                losses_df[f\"Normalized {metric}\"] = 0  # Avoid division by zero\n",
    "\n",
    "    # Compute MRSN Scores\n",
    "    epsilon = 1e-9\n",
    "    norm_cols = [\"Normalized R2 Loss\", \"Normalized MSE Loss\", \"Normalized MAE Loss\"]\n",
    "\n",
    "    for index, row in losses_df.iterrows():\n",
    "        # Check if all required columns exist before computation\n",
    "        if all(col in losses_df.columns for col in norm_cols):\n",
    "            normalized_values = np.array(row[norm_cols].values, dtype=float)\n",
    "            normalized_values = np.maximum(normalized_values, epsilon)  # Replace zeros with epsilon\n",
    "            sn_ratios = -10 * np.log10(normalized_values)\n",
    "            losses_df.loc[index, \"MRSN Score\"] = float(np.sum(sn_ratios))\n",
    "\n",
    "    return losses_df"
   ]
  },
  {
   "cell_type": "code",
   "execution_count": 3,
   "id": "eb07d1a9",
   "metadata": {
    "execution": {
     "iopub.execute_input": "2025-02-23T11:31:49.092072Z",
     "iopub.status.busy": "2025-02-23T11:31:49.091674Z",
     "iopub.status.idle": "2025-02-23T11:31:49.099005Z",
     "shell.execute_reply": "2025-02-23T11:31:49.097803Z"
    },
    "papermill": {
     "duration": 0.012607,
     "end_time": "2025-02-23T11:31:49.100766",
     "exception": false,
     "start_time": "2025-02-23T11:31:49.088159",
     "status": "completed"
    },
    "tags": []
   },
   "outputs": [
    {
     "name": "stdout",
     "output_type": "stream",
     "text": [
      "Writing utils.py\n"
     ]
    }
   ],
   "source": [
    "%%writefile utils.py\n",
    "import numpy as np\n",
    "from sklearn.metrics import r2_score, mean_squared_error, mean_absolute_error\n",
    "\n",
    "def sn_ratio(model, X_test, y_test, name):\n",
    "    \"\"\"Compute quality losses for a given model.\"\"\"\n",
    "    y_pred = model.predict(X_test)\n",
    "\n",
    "    # Compute performance metrics\n",
    "    r2 = r2_score(y_test, y_pred)\n",
    "    mse = mean_squared_error(y_test, y_pred)\n",
    "    mae = mean_absolute_error(y_test, y_pred)\n",
    "\n",
    "    print(f\"{name}\")\n",
    "    print(f\"Rsquare score: {r2}\")\n",
    "    print(f\"MSE: {mse}\")\n",
    "    print(f\"MAE: {mae}\")\n",
    "\n",
    "    # Compute quality losses\n",
    "    L_r2 = 1 / ((r2 + 1e-9)**2) if r2 > 0 else 1\n",
    "    L_mse = (1/2) * (mse ** 2)\n",
    "    L_mae = (1/2) * (mae ** 2)\n",
    "\n",
    "    return {\n",
    "        \"Model\": name,\n",
    "        \"R2 Loss\": L_r2,\n",
    "        \"MSE Loss\": L_mse,\n",
    "        \"MAE Loss\": L_mae\n",
    "    }\n",
    "\n",
    "def process_mrsn(losses_df):\n",
    "    \"\"\"Process Mean Robust SN Ratio (MRSN) from loss values.\"\"\"\n",
    "    \n",
    "    # Normalize each loss metric\n",
    "    for metric in [\"R2 Loss\", \"MSE Loss\", \"MAE Loss\"]:\n",
    "        if metric in losses_df.columns:  # Ensure column exists\n",
    "            min_val, max_val = losses_df[metric].min(), losses_df[metric].max()\n",
    "            if max_val != min_val:\n",
    "                losses_df[f\"Normalized {metric}\"] = (losses_df[metric] - min_val) / (max_val - min_val)\n",
    "            else:\n",
    "                losses_df[f\"Normalized {metric}\"] = 0  # Avoid division by zero\n",
    "\n",
    "    # Compute MRSN Scores\n",
    "    epsilon = 1e-9\n",
    "    norm_cols = [\"Normalized R2 Loss\", \"Normalized MSE Loss\", \"Normalized MAE Loss\"]\n",
    "\n",
    "    for index, row in losses_df.iterrows():\n",
    "        # Check if all required columns exist before computation\n",
    "        if all(col in losses_df.columns for col in norm_cols):\n",
    "            normalized_values = np.array(row[norm_cols].values, dtype=float)\n",
    "            normalized_values = np.maximum(normalized_values, epsilon)  # Replace zeros with epsilon\n",
    "            sn_ratios = -10 * np.log10(normalized_values)\n",
    "            losses_df.loc[index, \"MRSN Score\"] = float(np.sum(sn_ratios))\n",
    "\n",
    "    return losses_df\n"
   ]
  },
  {
   "cell_type": "code",
   "execution_count": 4,
   "id": "8041190d",
   "metadata": {
    "execution": {
     "iopub.execute_input": "2025-02-23T11:31:49.107708Z",
     "iopub.status.busy": "2025-02-23T11:31:49.107330Z",
     "iopub.status.idle": "2025-02-23T11:31:49.111736Z",
     "shell.execute_reply": "2025-02-23T11:31:49.110651Z"
    },
    "papermill": {
     "duration": 0.010242,
     "end_time": "2025-02-23T11:31:49.113882",
     "exception": false,
     "start_time": "2025-02-23T11:31:49.103640",
     "status": "completed"
    },
    "tags": []
   },
   "outputs": [],
   "source": [
    "import sys\n",
    "sys.path.append(\"./\")  # Ensure Python searches for utils.py in the current directory\n"
   ]
  },
  {
   "cell_type": "code",
   "execution_count": 5,
   "id": "5bf1af19",
   "metadata": {
    "execution": {
     "iopub.execute_input": "2025-02-23T11:31:49.120894Z",
     "iopub.status.busy": "2025-02-23T11:31:49.120468Z",
     "iopub.status.idle": "2025-02-23T11:31:49.125081Z",
     "shell.execute_reply": "2025-02-23T11:31:49.123781Z"
    },
    "papermill": {
     "duration": 0.01028,
     "end_time": "2025-02-23T11:31:49.127124",
     "exception": false,
     "start_time": "2025-02-23T11:31:49.116844",
     "status": "completed"
    },
    "tags": []
   },
   "outputs": [],
   "source": [
    "import sys\n",
    "sys.path.append(\"/kaggle/working\")\n"
   ]
  },
  {
   "cell_type": "code",
   "execution_count": 6,
   "id": "a753f8dc",
   "metadata": {
    "execution": {
     "iopub.execute_input": "2025-02-23T11:31:49.134399Z",
     "iopub.status.busy": "2025-02-23T11:31:49.134048Z",
     "iopub.status.idle": "2025-02-23T11:31:49.262943Z",
     "shell.execute_reply": "2025-02-23T11:31:49.260842Z"
    },
    "papermill": {
     "duration": 0.135222,
     "end_time": "2025-02-23T11:31:49.265478",
     "exception": false,
     "start_time": "2025-02-23T11:31:49.130256",
     "status": "completed"
    },
    "tags": []
   },
   "outputs": [
    {
     "name": "stdout",
     "output_type": "stream",
     "text": [
      "total 16\r\n",
      "---------- 1 root root 12172 Feb 23 11:31 __notebook__.ipynb\r\n",
      "-rw-r--r-- 1 root root  1960 Feb 23 11:31 utils.py\r\n",
      "['/kaggle/working', '/kaggle/lib/kagglegym', '/kaggle/lib', '/usr/lib/python310.zip', '/usr/lib/python3.10', '/usr/lib/python3.10/lib-dynload', '', '/usr/local/lib/python3.10/dist-packages', '/usr/lib/python3/dist-packages', '/usr/local/lib/python3.10/dist-packages/IPython/extensions', '/usr/local/lib/python3.10/dist-packages/setuptools/_vendor', '/root/.ipython', './', '/kaggle/working']\n"
     ]
    }
   ],
   "source": [
    "!ls -l\n",
    "print(sys.path)"
   ]
  },
  {
   "cell_type": "code",
   "execution_count": 7,
   "id": "388b7538",
   "metadata": {
    "execution": {
     "iopub.execute_input": "2025-02-23T11:31:49.273124Z",
     "iopub.status.busy": "2025-02-23T11:31:49.272606Z",
     "iopub.status.idle": "2025-02-23T11:31:49.279439Z",
     "shell.execute_reply": "2025-02-23T11:31:49.277887Z"
    },
    "papermill": {
     "duration": 0.01288,
     "end_time": "2025-02-23T11:31:49.281332",
     "exception": false,
     "start_time": "2025-02-23T11:31:49.268452",
     "status": "completed"
    },
    "tags": []
   },
   "outputs": [
    {
     "name": "stdout",
     "output_type": "stream",
     "text": [
      "True\n",
      "/kaggle/working\n"
     ]
    }
   ],
   "source": [
    "import os\n",
    "print(os.path.exists(\"/kaggle/working/utils.py\"))\n",
    "print(os.getcwd())  # Check the current directory\n"
   ]
  },
  {
   "cell_type": "code",
   "execution_count": null,
   "id": "18cf9b80",
   "metadata": {
    "papermill": {
     "duration": 0.002705,
     "end_time": "2025-02-23T11:31:49.287250",
     "exception": false,
     "start_time": "2025-02-23T11:31:49.284545",
     "status": "completed"
    },
    "tags": []
   },
   "outputs": [],
   "source": []
  }
 ],
 "metadata": {
  "kaggle": {
   "accelerator": "none",
   "dataSources": [],
   "dockerImageVersionId": 30918,
   "isGpuEnabled": false,
   "isInternetEnabled": true,
   "language": "python",
   "sourceType": "notebook"
  },
  "kernelspec": {
   "display_name": "Python 3",
   "language": "python",
   "name": "python3"
  },
  "language_info": {
   "codemirror_mode": {
    "name": "ipython",
    "version": 3
   },
   "file_extension": ".py",
   "mimetype": "text/x-python",
   "name": "python",
   "nbconvert_exporter": "python",
   "pygments_lexer": "ipython3",
   "version": "3.10.12"
  },
  "papermill": {
   "default_parameters": {},
   "duration": 4.779366,
   "end_time": "2025-02-23T11:31:49.910334",
   "environment_variables": {},
   "exception": null,
   "input_path": "__notebook__.ipynb",
   "output_path": "__notebook__.ipynb",
   "parameters": {},
   "start_time": "2025-02-23T11:31:45.130968",
   "version": "2.6.0"
  }
 },
 "nbformat": 4,
 "nbformat_minor": 5
}
